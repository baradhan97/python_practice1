{
 "cells": [
  {
   "cell_type": "code",
   "execution_count": 7,
   "id": "aba1475d",
   "metadata": {},
   "outputs": [
    {
     "name": "stdin",
     "output_type": "stream",
     "text": [
      "Enter the Word hello\n"
     ]
    },
    {
     "name": "stdout",
     "output_type": "stream",
     "text": [
      "Reversed Word for word hello is olleh\n"
     ]
    }
   ],
   "source": [
    "#1.Write a Python program to find the reverse of a string. Expected Output (for input \"hello\"):\n",
    "#olleh\n",
    "def rev_String():\n",
    "    rev_word=word[::-1]\n",
    "    return rev_word\n",
    "word=input('Enter the Word')\n",
    "print(f'Reversed Word for word {word} is {rev_String()}')\n",
    "\n"
   ]
  },
  {
   "cell_type": "code",
   "execution_count": 2,
   "id": "5b1ec143",
   "metadata": {},
   "outputs": [
    {
     "name": "stdout",
     "output_type": "stream",
     "text": [
      "0 1 1 2 3 5 8 13 21 34 "
     ]
    }
   ],
   "source": [
    "'''2.Write a Python program to generate the Fibonacci sequence up to 10 terms.\n",
    "Expected Output:\n",
    "0 1 1 2 3 5 8 13 21 34 '''\n",
    "n=10\n",
    "a,b=0,1\n",
    "i=0\n",
    "while i<n:\n",
    "    print(a,end=' ')\n",
    "    temp=a\n",
    "    a=b\n",
    "    b=temp+b\n",
    "    i+=1\n",
    "    \n",
    "    \n",
    "\n",
    "\n",
    "\n"
   ]
  },
  {
   "cell_type": "code",
   "execution_count": 3,
   "id": "c656f04a",
   "metadata": {},
   "outputs": [
    {
     "name": "stdin",
     "output_type": "stream",
     "text": [
      "Enter the String madam\n"
     ]
    },
    {
     "name": "stdout",
     "output_type": "stream",
     "text": [
      "The word madam is a Palindrome\n"
     ]
    }
   ],
   "source": [
    "'''3.Write a Python function to check if a given string is a palindrome.\n",
    "Expected Output (for input \"madam\"):\n",
    "madam is a palindrome'''\n",
    "word=input('Enter the String')\n",
    "rev_str=word[::-1]\n",
    "if word== rev_str:\n",
    "    print(f'The word {word} is a Palindrome')\n",
    "\n"
   ]
  },
  {
   "cell_type": "code",
   "execution_count": 6,
   "id": "cd7b0a78",
   "metadata": {},
   "outputs": [
    {
     "name": "stdin",
     "output_type": "stream",
     "text": [
      "Enter the word: Education\n"
     ]
    },
    {
     "name": "stdout",
     "output_type": "stream",
     "text": [
      "Number of Vowels in education is 5 \n"
     ]
    }
   ],
   "source": [
    "'''4.Write a Python program to count the number of vowels in a given string. \n",
    "Expected Output (for input \"education\"):\n",
    "Number of vowels: 5'''\n",
    "word=input('Enter the word:').strip().lower()\n",
    "count=0\n",
    "for i in word:\n",
    "    if i == 'a'or i=='e'or i=='i'or i=='o'or i=='u':\n",
    "        count+=1\n",
    "print(f'Number of Vowels in {word} is {count} ')\n",
    "\n",
    "\n",
    "    \n",
    "\n",
    "\n",
    "\n",
    "\n"
   ]
  },
  {
   "cell_type": "code",
   "execution_count": 10,
   "id": "bdbb9b19",
   "metadata": {},
   "outputs": [
    {
     "name": "stdout",
     "output_type": "stream",
     "text": [
      "List after removed duplcates : [1, 2, 3, 4, 5]\n"
     ]
    }
   ],
   "source": [
    "'''5.Write a Python program to remove duplicates from a list.\n",
    "Expected Output (for input [1, 2, 2, 3, 4, 4, 5]):\n",
    " [1, 2, 3, 4, 5]'''\n",
    "list1=[1, 2, 2, 3, 4, 4, 5]\n",
    "list2=[]\n",
    "for i in list1:\n",
    "    if i not in list2:\n",
    "        list2.append(i)\n",
    "print('List after removed duplcates :',list2)\n",
    "\n",
    "\n"
   ]
  }
 ],
 "metadata": {
  "kernelspec": {
   "display_name": "Python 3 (ipykernel)",
   "language": "python",
   "name": "python3"
  },
  "language_info": {
   "codemirror_mode": {
    "name": "ipython",
    "version": 3
   },
   "file_extension": ".py",
   "mimetype": "text/x-python",
   "name": "python",
   "nbconvert_exporter": "python",
   "pygments_lexer": "ipython3",
   "version": "3.12.7"
  }
 },
 "nbformat": 4,
 "nbformat_minor": 5
}
