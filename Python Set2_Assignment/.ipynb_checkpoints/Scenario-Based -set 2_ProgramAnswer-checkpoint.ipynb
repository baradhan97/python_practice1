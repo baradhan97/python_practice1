{
 "cells": [
  {
   "cell_type": "code",
   "execution_count": 2,
   "id": "684cffae-3baa-4639-bdd4-8b95e084f102",
   "metadata": {},
   "outputs": [
    {
     "name": "stdin",
     "output_type": "stream",
     "text": [
      "Enter Amount: 1000\n"
     ]
    },
    {
     "name": "stdout",
     "output_type": "stream",
     "text": [
      "Your transaction is being processed\n"
     ]
    }
   ],
   "source": [
    "'''Scenario: You are developing a banking application that categorizes transactions based on the amount entered.\n",
    " Write logic to determine whether the amount is positive, negative, or zero.'''\n",
    "amount=int(input('Enter Amount:'))\n",
    "if amount>0:\n",
    "    print('Your transaction is being processed')\n",
    "elif amount ==0:\n",
    "    print('Enterd amount is Zero.Enter Valid number')\n",
    "else:\n",
    "    print('Negative value.Enter Valid number')\n",
    "    "
   ]
  },
  {
   "cell_type": "code",
   "execution_count": 1,
   "id": "c94f5961-2e6d-4ebf-a021-a3fa8bafbfcf",
   "metadata": {},
   "outputs": [
    {
     "name": "stdin",
     "output_type": "stream",
     "text": [
      "Enter number: 1234\n"
     ]
    },
    {
     "name": "stdout",
     "output_type": "stream",
     "text": [
      "10\n"
     ]
    }
   ],
   "source": [
    "'''Scenario: A digital locker requires users to enter a numerical passcode. As part of a security feature, \n",
    "the system checks the sum of the digits of the passcode.Write logic to compute the sum of the digits of a given number'''\n",
    "numbers=input('Enter number:')\n",
    "sum=0\n",
    "numlist=[int(number) for number in numbers]\n",
    "for num in numlist: \n",
    "    sum+=num\n",
    "print(sum)\n"
   ]
  },
  {
   "cell_type": "code",
   "execution_count": 4,
   "id": "61312f29-d77a-4d51-a520-4c44b4b20a36",
   "metadata": {},
   "outputs": [
    {
     "name": "stdin",
     "output_type": "stream",
     "text": [
      "Enter number: 4689\n"
     ]
    },
    {
     "name": "stdout",
     "output_type": "stream",
     "text": [
      "['4', '6', '8', '9']\n",
      "9864\n"
     ]
    }
   ],
   "source": [
    "'''Scenario: A mobile payment app uses a simple checksum validation where reversing a transaction ID helps detect fraud.\n",
    " Write logic to take a number and return its reverse'''\n",
    "def revid():\n",
    "    numbers=input('Enter number:')\n",
    "    reverseid=''\n",
    "    numlist=list(numbers)\n",
    "    print(numlist)\n",
    "    numlist.reverse()\n",
    "    for num in numlist:\n",
    "        reverseid+=num\n",
    "    return reverseid\n",
    "\n",
    "print(revid())\n"
   ]
  },
  {
   "cell_type": "code",
   "execution_count": 16,
   "id": "92d588e6-6146-4c59-8930-14ffb7955732",
   "metadata": {},
   "outputs": [
    {
     "name": "stdin",
     "output_type": "stream",
     "text": [
      "Enter id 5\n"
     ]
    },
    {
     "name": "stdout",
     "output_type": "stream",
     "text": [
      "Entered id is Prime number\n"
     ]
    }
   ],
   "source": [
    "'''Scenario: In a secure login system, certain features are enabled only for users with prime-numbered user IDs.\n",
    " Write logic to check if a given number is prime.'''\n",
    "id=int(input('Enter id'))\n",
    "count=0\n",
    "for num in range(1,id+1):\n",
    "    if id%num==0:\n",
    "        count+=1\n",
    "if count==2:\n",
    "    print('Entered id is Prime number')\n",
    "    "
   ]
  },
  {
   "cell_type": "code",
   "execution_count": 23,
   "id": "1739dd4e-07e7-4a9a-b9dd-79f944d9a761",
   "metadata": {},
   "outputs": [
    {
     "data": {
      "text/plain": [
       "120"
      ]
     },
     "execution_count": 23,
     "metadata": {},
     "output_type": "execute_result"
    }
   ],
   "source": [
    "'''Scenario: A scientist is working on permutations and needs to calculate the factorial of numbers frequently.\n",
    " Write logic to find the factorial of a given number using recursion.'''\n",
    "def factorial(n):\n",
    "    if n==0 or n==1:\n",
    "        return 1\n",
    "    else:\n",
    "        return n*factorial(n-1)\n",
    "    \n",
    "factorial(5)\n",
    "\n"
   ]
  },
  {
   "cell_type": "code",
   "execution_count": 8,
   "id": "cc85b937-e85e-410f-ac8e-822823f5787c",
   "metadata": {},
   "outputs": [
    {
     "name": "stdin",
     "output_type": "stream",
     "text": [
      "Enter the number: 153\n"
     ]
    },
    {
     "name": "stdout",
     "output_type": "stream",
     "text": [
      "153 is a Armstrong number\n"
     ]
    }
   ],
   "source": [
    "'''Scenario: A unique lottery system assigns ticket numbers where only Armstrong numbers win the jackpot.\n",
    " Write logic to check whether a given number is an Armstrong number.'''\n",
    "def armstrong(number):\n",
    "    str_num=str(number)\n",
    "    digit=len(str_num)\n",
    "    result=sum(int(each_num)**digit for each_num in str_num)\n",
    "    return result==number\n",
    "num=int(input('Enter the number:'))\n",
    "if armstrong(num):\n",
    "    print(f'{num} is a Armstrong number')\n",
    "else:\n",
    "    print(f'{num} is not a Armstrong number')\n",
    "\n",
    "\n",
    "    "
   ]
  },
  {
   "cell_type": "code",
   "execution_count": 12,
   "id": "296f0e4d-e051-48f6-849b-4b899212e43c",
   "metadata": {},
   "outputs": [
    {
     "name": "stdout",
     "output_type": "stream",
     "text": [
      "Changed Password is nagavar \n"
     ]
    }
   ],
   "source": [
    "'''Scenario: A password manager needs to strengthen weak passwords by swapping the first and last characters of user-generated passwords.'''\n",
    "name='ragavan'\n",
    "if len(name)>1:\n",
    "    changename=name[-1]+name[1:-1]+name[0]\n",
    "print(f'Changed Password is {changename} ')"
   ]
  },
  {
   "cell_type": "code",
   "execution_count": 1,
   "id": "4525262b-09b4-4405-8c4d-14e4792ff442",
   "metadata": {},
   "outputs": [
    {
     "name": "stdin",
     "output_type": "stream",
     "text": [
      "Enter the decimal number: 13\n"
     ]
    },
    {
     "name": "stdout",
     "output_type": "stream",
     "text": [
      "Binary number for 13decimal number is 1101\n"
     ]
    }
   ],
   "source": [
    "'''Scenario: A low-level networking application requires decimal numbers to be converted into binary format before transmission.\n",
    " Write logic to convert a given decimal number into its binary equivalent.'''\n",
    "def decimal_tobinary(number):\n",
    "    \n",
    "    binary=''\n",
    "    if number<=0:\n",
    "        return 0\n",
    "    else:\n",
    "        while number>0:\n",
    "            remainder=number%2\n",
    "            binary=str(remainder)+binary\n",
    "            number=number//2\n",
    "        return binary\n",
    "num=int(input('Enter the decimal number:'))\n",
    "binary_result=decimal_tobinary(num)\n",
    "print(f'Binary number for {num}decimal number is {binary_result}')   "
   ]
  },
  {
   "cell_type": "code",
   "execution_count": 2,
   "id": "07981c78-959f-4eda-8262-92788716ddef",
   "metadata": {},
   "outputs": [
    {
     "name": "stdin",
     "output_type": "stream",
     "text": [
      "Enter the Sentence: Hi Iam Baradhan\n"
     ]
    },
    {
     "name": "stdout",
     "output_type": "stream",
     "text": [
      "Longest word in Sentence is Baradhan\n"
     ]
    }
   ],
   "source": [
    "'''Scenario: A text-processing tool helps summarize articles by identifying the most significant words.\n",
    " Write logic to find the longest word in a sentence.'''\n",
    "words=input('Enter the Sentence:')\n",
    "list_ofWords=words.split()\n",
    "longest_word=''\n",
    "i=0\n",
    "while i<len(list_ofWords):\n",
    "    if len(list_ofWords[i])>len(longest_word):\n",
    "        longest_word=list_ofWords[i]\n",
    "    i+=1\n",
    "print(f'Longest word in Sentence is {longest_word}')"
   ]
  },
  {
   "cell_type": "code",
   "execution_count": 7,
   "id": "d3373d90-514d-4322-9db5-cdf4e44847b3",
   "metadata": {},
   "outputs": [
    {
     "name": "stdin",
     "output_type": "stream",
     "text": [
      "Enter the Word: silent\n",
      "Enter the Word: listen\n"
     ]
    },
    {
     "name": "stdout",
     "output_type": "stream",
     "text": [
      "eilnst\n",
      "eilnst\n",
      "The Word silent and listen are  Anagrams\n"
     ]
    }
   ],
   "source": [
    "'''Scenario: A plagiarism detection tool compares words from different documents and checks if they are anagrams (same characters but different order).\n",
    " Write logic to check whether two given strings are anagrams.'''\n",
    "word=input('Enter the Word:')\n",
    "word2=input('Enter the Word:')\n",
    "listword,listword2=list(word),list(word2)\n",
    "listword.sort()\n",
    "listword2.sort()\n",
    "sortword=''.join(listword) \n",
    "sortword2=''.join(listword2)\n",
    "print(sortword)\n",
    "print(sortword2)\n",
    "if sortword==sortword2:\n",
    "     print(f'The Word {word} and {word2} are  Anagrams')"
   ]
  }
 ],
 "metadata": {
  "kernelspec": {
   "display_name": "Python 3 (ipykernel)",
   "language": "python",
   "name": "python3"
  },
  "language_info": {
   "codemirror_mode": {
    "name": "ipython",
    "version": 3
   },
   "file_extension": ".py",
   "mimetype": "text/x-python",
   "name": "python",
   "nbconvert_exporter": "python",
   "pygments_lexer": "ipython3",
   "version": "3.12.7"
  }
 },
 "nbformat": 4,
 "nbformat_minor": 5
}
