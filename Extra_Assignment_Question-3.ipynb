{
 "cells": [
  {
   "cell_type": "code",
   "execution_count": 1,
   "id": "de16be7e-0e1e-4f1f-bb6a-28e5881419ea",
   "metadata": {},
   "outputs": [
    {
     "name": "stdin",
     "output_type": "stream",
     "text": [
      "value:  10\n"
     ]
    },
    {
     "name": "stdout",
     "output_type": "stream",
     "text": [
      "CORRECT\n"
     ]
    }
   ],
   "source": [
    "#print 'CORRECT' if i==10\n",
    "i=int(input('value: '))\n",
    "if i==10:\n",
    "    print('CORRECT')\n",
    "else:\n",
    "    print('WRONG')"
   ]
  },
  {
   "cell_type": "code",
   "execution_count": 2,
   "id": "0a6976cf-3776-4dbf-8347-bcb241e35eef",
   "metadata": {},
   "outputs": [
    {
     "name": "stdin",
     "output_type": "stream",
     "text": [
      "Enter the password:  HOPE@123\n"
     ]
    },
    {
     "name": "stdout",
     "output_type": "stream",
     "text": [
      "Your password is correct\n"
     ]
    }
   ],
   "source": [
    "#Check the password using if and else\n",
    "password=input('Enter the password: ')\n",
    "print('Your password is correct')"
   ]
  },
  {
   "cell_type": "code",
   "execution_count": 3,
   "id": "ddd8b1e2-6ce5-4e23-a743-cdbc787b4489",
   "metadata": {},
   "outputs": [
    {
     "name": "stdin",
     "output_type": "stream",
     "text": [
      "age:  25\n"
     ]
    },
    {
     "name": "stdout",
     "output_type": "stream",
     "text": [
      "adult\n"
     ]
    }
   ],
   "source": [
    "#Category the people by their age like children, adult,citizen,senior citizen\n",
    "age=int(input('age: '))\n",
    "if age<18:\n",
    "    print('children')\n",
    "elif age<35:\n",
    "    print('adult')\n",
    "elif age<55:\n",
    "    print('citizen')\n",
    "else:\n",
    "    print('senior citizen')"
   ]
  },
  {
   "cell_type": "code",
   "execution_count": 5,
   "id": "367b6bd8-23ba-419c-9d42-e294781af532",
   "metadata": {},
   "outputs": [
    {
     "name": "stdin",
     "output_type": "stream",
     "text": [
      "Enter any number: -5\n"
     ]
    },
    {
     "name": "stdout",
     "output_type": "stream",
     "text": [
      "No is Negative\n"
     ]
    }
   ],
   "source": [
    "#Find whether given number is positive or negative\n",
    "num=int(input('Enter any number:'))\n",
    "if num<0:\n",
    "    print('No is Negative')\n",
    "elif num==0:\n",
    "    print('No is Zero')\n",
    "else:\n",
    "    print('No is Positive')\n"
   ]
  },
  {
   "cell_type": "code",
   "execution_count": 8,
   "id": "7b134952-9a7e-4d08-8c23-1f6d146ad12d",
   "metadata": {},
   "outputs": [
    {
     "name": "stdin",
     "output_type": "stream",
     "text": [
      "Enter a number to check: 36\n"
     ]
    },
    {
     "name": "stdout",
     "output_type": "stream",
     "text": [
      "No is not divisible by 5\n"
     ]
    }
   ],
   "source": [
    "#Check whether the given number is divisible by 5\n",
    "num=int(input('Enter a number to check:'))\n",
    "if num%5==0:\n",
    "    print('No is divisible by 5')\n",
    "else:\n",
    "    print('No is not divisible by 5')"
   ]
  },
  {
   "cell_type": "code",
   "execution_count": null,
   "id": "73836863-b051-4683-b6c5-8ddbb9cdd78d",
   "metadata": {},
   "outputs": [],
   "source": []
  }
 ],
 "metadata": {
  "kernelspec": {
   "display_name": "Python 3 (ipykernel)",
   "language": "python",
   "name": "python3"
  },
  "language_info": {
   "codemirror_mode": {
    "name": "ipython",
    "version": 3
   },
   "file_extension": ".py",
   "mimetype": "text/x-python",
   "name": "python",
   "nbconvert_exporter": "python",
   "pygments_lexer": "ipython3",
   "version": "3.12.7"
  }
 },
 "nbformat": 4,
 "nbformat_minor": 5
}
