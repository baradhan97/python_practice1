{
 "cells": [
  {
   "cell_type": "markdown",
   "id": "cad97f18-cabc-4c87-88f6-3cbba5e28931",
   "metadata": {},
   "source": [
    "### 1.Print the Output as \"Welcome to Assignment-1\""
   ]
  },
  {
   "cell_type": "code",
   "execution_count": 1,
   "id": "855698c3-1955-45e2-a576-ca2913d95ac5",
   "metadata": {},
   "outputs": [
    {
     "name": "stdout",
     "output_type": "stream",
     "text": [
      "Welcome to Assignment-1\n"
     ]
    }
   ],
   "source": [
    "print('Welcome to Assignment-1')"
   ]
  },
  {
   "cell_type": "markdown",
   "id": "565a983e-8410-474a-8c83-b3f539b89ff8",
   "metadata": {},
   "source": [
    "### 2.Basic Addition Output"
   ]
  },
  {
   "cell_type": "code",
   "execution_count": 2,
   "id": "40274c5b-1d5a-4753-a3cd-ed9c78984794",
   "metadata": {},
   "outputs": [
    {
     "name": "stdout",
     "output_type": "stream",
     "text": [
      "Num1= 10\n",
      "Num2= 30\n",
      "Add= 40\n"
     ]
    }
   ],
   "source": [
    "num1=10\n",
    "print('Num1=',num1)\n",
    "num2=30\n",
    "print('Num2=',num2)\n",
    "add=num1+num2\n",
    "print('Add=',add)"
   ]
  },
  {
   "cell_type": "markdown",
   "id": "fffa24bc-1cab-43f9-97e8-549e3dcc5b28",
   "metadata": {},
   "source": [
    "### 3.Give Body Mass Index Report "
   ]
  },
  {
   "cell_type": "code",
   "execution_count": 3,
   "id": "1668d70c-e9dd-4325-bd34-9c50ebe987f4",
   "metadata": {},
   "outputs": [
    {
     "name": "stdin",
     "output_type": "stream",
     "text": [
      "Enter the BMI Index: 25.5\n"
     ]
    },
    {
     "name": "stdout",
     "output_type": "stream",
     "text": [
      "Overweight\n"
     ]
    }
   ],
   "source": [
    "bmi=float(input('Enter the BMI Index:'))\n",
    "if(bmi<18.5):\n",
    "    print('UnderWeight')\n",
    "elif(bmi<24.9):\n",
    "    print('Normal')\n",
    "elif(bmi<29.9):\n",
    "    print('Overweight')\n",
    "elif(bmi<34.9):\n",
    "    print('Obesity Class 1')\n",
    "elif(bmi<39.9):\n",
    "    print('Obesity Class 2')\n",
    "else:\n",
    "    print('Obesity Class 3')\n",
    "    \n"
   ]
  },
  {
   "cell_type": "code",
   "execution_count": null,
   "id": "da4312b0-ed3b-4c06-ba3d-c456e6da3523",
   "metadata": {},
   "outputs": [],
   "source": []
  }
 ],
 "metadata": {
  "kernelspec": {
   "display_name": "Python 3 (ipykernel)",
   "language": "python",
   "name": "python3"
  },
  "language_info": {
   "codemirror_mode": {
    "name": "ipython",
    "version": 3
   },
   "file_extension": ".py",
   "mimetype": "text/x-python",
   "name": "python",
   "nbconvert_exporter": "python",
   "pygments_lexer": "ipython3",
   "version": "3.12.7"
  }
 },
 "nbformat": 4,
 "nbformat_minor": 5
}
