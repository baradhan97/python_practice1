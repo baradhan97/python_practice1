{
 "cells": [
  {
   "cell_type": "code",
   "execution_count": 1,
   "id": "7182796b-f5ea-436a-9725-1975760ec262",
   "metadata": {},
   "outputs": [
    {
     "name": "stdout",
     "output_type": "stream",
     "text": [
      "Sub-fields in AI are:\n",
      "Machine Learning\n",
      "Neural Networks\n",
      "Vision\n",
      "Robotics\n",
      "Speech Processing\n",
      "Natural Language Processing\n"
     ]
    }
   ],
   "source": [
    "#Crate function and list out items in list\n",
    "def subfields():\n",
    "    subfields=['Machine Learning','Neural Networks','Vision','Robotics','Speech Processing','Natural Language Processing']\n",
    "    print('Sub-fields in AI are:')\n",
    "    for field in subfields:\n",
    "        print(field)\n",
    "subfields()"
   ]
  },
  {
   "cell_type": "code",
   "execution_count": 4,
   "id": "5ce6fcab-8d94-4105-bffa-c2dc38e88fa4",
   "metadata": {},
   "outputs": [
    {
     "name": "stdin",
     "output_type": "stream",
     "text": [
      "Enter a number: 826\n"
     ]
    },
    {
     "name": "stdout",
     "output_type": "stream",
     "text": [
      "826 is Even\n"
     ]
    }
   ],
   "source": [
    "#Create the function that checks given number is odd or Even\n",
    "def odd_even():\n",
    "    num=int(input('Enter a number:'))\n",
    "    if num%2==0:\n",
    "        print(f'{num} is Even')\n",
    "        number= 'Even'\n",
    "    else:\n",
    "        print(f'{num} is Odd')\n",
    "        number='Odd'\n",
    "    return number\n",
    "number=odd_even()\n"
   ]
  },
  {
   "cell_type": "code",
   "execution_count": 5,
   "id": "97c194c1-eed3-4a6f-9f02-30c6b1048a66",
   "metadata": {},
   "outputs": [
    {
     "name": "stdout",
     "output_type": "stream",
     "text": [
      "Even\n"
     ]
    }
   ],
   "source": [
    "print(number)"
   ]
  },
  {
   "cell_type": "code",
   "execution_count": 13,
   "id": "342645a2-7197-4776-a1c6-72d7f7913776",
   "metadata": {},
   "outputs": [
    {
     "name": "stdin",
     "output_type": "stream",
     "text": [
      "Enter Your Gender: Female\n",
      "Enter Your Age: 15\n"
     ]
    },
    {
     "name": "stdout",
     "output_type": "stream",
     "text": [
      "Not Eligible\n"
     ]
    }
   ],
   "source": [
    "#Create a function that tells the Eligibiity of marriage for male and female according to their age limit \n",
    "#like 21 for male and 18 for female\n",
    "def eligible():\n",
    "    gender=input('Enter Your Gender:').strip().casefold() \n",
    "    age=int(input('Enter Your Age:'))\n",
    "    match gender:\n",
    "        case 'male':\n",
    "            if age>=21:\n",
    "                print('Eligible')\n",
    "                eligibility='Eligible'\n",
    "            else:\n",
    "                print('Not Eligible')\n",
    "                eligibility='Not Eligible'\n",
    "        case 'female':\n",
    "            if age>=18:\n",
    "                print('Eligible')\n",
    "                eligibility='Eligible'\n",
    "            else:\n",
    "                print('Not Eligible')\n",
    "                eligibility='Not Eligible'\n",
    "    return eligibility\n",
    "age_eligibility=eligible()"
   ]
  },
  {
   "cell_type": "code",
   "execution_count": 17,
   "id": "e7c26f6a-fa42-4bfc-93a4-a902b141af3e",
   "metadata": {},
   "outputs": [
    {
     "name": "stdin",
     "output_type": "stream",
     "text": [
      "Subject1= 98\n",
      "Subject2= 94\n",
      "Subject3= 93\n",
      "Subject4= 93\n",
      "Subject5= 92\n"
     ]
    },
    {
     "name": "stdout",
     "output_type": "stream",
     "text": [
      "Total:470\n",
      "Percentage:94.0\n"
     ]
    }
   ],
   "source": [
    "#Calculate the percentage of your 10th mark\n",
    "def percentage():\n",
    "    sub1=int(input('Subject1='))\n",
    "    sub2=int(input('Subject2='))\n",
    "    sub3=int(input('Subject3='))\n",
    "    sub4=int(input('Subject4='))\n",
    "    sub5=int(input('Subject5='))\n",
    "    total=sub1+sub2+sub3+sub4+sub5\n",
    "    totalmarks=500\n",
    "    print(f'Total:{total}')\n",
    "    percentage=(total/totalmarks)*100\n",
    "    print(f'Percentage:{percentage}')\n",
    "    return percentage \n",
    "percent=percentage()"
   ]
  },
  {
   "cell_type": "code",
   "execution_count": 20,
   "id": "233784a9-58d2-4b5d-9eb8-10f5a154bfe8",
   "metadata": {},
   "outputs": [
    {
     "name": "stdin",
     "output_type": "stream",
     "text": [
      "Side1: 10\n",
      "Side2: 9\n",
      "Side3: 8\n"
     ]
    },
    {
     "name": "stdout",
     "output_type": "stream",
     "text": [
      "Perimeter of Equilateral Triangle is : 27\n",
      "Area of Triangle: 34.197039345533994\n"
     ]
    }
   ],
   "source": [
    "#print area and perimeter of  triangle using class and functions\n",
    "import math\n",
    "def triangle():\n",
    "    side1=int(input('Side1:'))\n",
    "    side2=int(input('Side2:'))\n",
    "    side3=int(input('Side3:'))\n",
    "    #adding all sides is perimeter\n",
    "    perimeter =side1+side2+side3\n",
    "    semiperimeter=perimeter/2\n",
    "    print('Perimeter of Equilateral Triangle is :',perimeter)\n",
    "    #using Heron's formula to find area of Triangle\n",
    "    area = math.sqrt(semiperimeter * (semiperimeter - side1) * (semiperimeter - side2) * (semiperimeter -side3))\n",
    "    print('Area of Triangle:',area)\n",
    "triangle()\n",
    "    \n",
    "    "
   ]
  },
  {
   "cell_type": "code",
   "execution_count": null,
   "id": "a1a5dd3c-890c-4fb0-b3a7-f137216fa2d5",
   "metadata": {},
   "outputs": [],
   "source": []
  }
 ],
 "metadata": {
  "kernelspec": {
   "display_name": "Python 3 (ipykernel)",
   "language": "python",
   "name": "python3"
  },
  "language_info": {
   "codemirror_mode": {
    "name": "ipython",
    "version": 3
   },
   "file_extension": ".py",
   "mimetype": "text/x-python",
   "name": "python",
   "nbconvert_exporter": "python",
   "pygments_lexer": "ipython3",
   "version": "3.12.7"
  }
 },
 "nbformat": 4,
 "nbformat_minor": 5
}
