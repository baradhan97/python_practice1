{
 "cells": [
  {
   "cell_type": "code",
   "execution_count": 1,
   "id": "06a98fe7-9fff-4934-8540-08c26bee315c",
   "metadata": {},
   "outputs": [
    {
     "name": "stdout",
     "output_type": "stream",
     "text": [
      "HOPE AI\n"
     ]
    }
   ],
   "source": [
    "#print Statement\n",
    "print('HOPE AI')"
   ]
  },
  {
   "cell_type": "code",
   "execution_count": 2,
   "id": "533a3f4a-c824-44ba-80ba-225b736e2667",
   "metadata": {},
   "outputs": [
    {
     "name": "stdin",
     "output_type": "stream",
     "text": [
      "Enter your institute name? : HOPE AI\n"
     ]
    }
   ],
   "source": [
    "#Buy input\n",
    "inst_Name=input('Enter your institute name? :')"
   ]
  },
  {
   "cell_type": "code",
   "execution_count": 3,
   "id": "744022de-e6f4-4486-a6be-f5a8b7b54d07",
   "metadata": {},
   "outputs": [
    {
     "name": "stdin",
     "output_type": "stream",
     "text": [
      "Enter your name:  Baradhan\n",
      "Enter your age:  27\n",
      "Enter your school name:  GBHSS\n",
      "Enter your degree:  B.E\n"
     ]
    }
   ],
   "source": [
    "#Buy inputs\n",
    "name=input('Enter your name: ')\n",
    "age=int(input('Enter your age: '))\n",
    "school=input('Enter your school name: ')\n",
    "degree=input('Enter your degree: ')"
   ]
  },
  {
   "cell_type": "code",
   "execution_count": 4,
   "id": "2a57996d-2583-4054-a27c-a9594a03f6c1",
   "metadata": {},
   "outputs": [
    {
     "name": "stdout",
     "output_type": "stream",
     "text": [
      "a= 43\n",
      "b= 34\n",
      "add = 77\n"
     ]
    }
   ],
   "source": [
    "#Addition\n",
    "a=43\n",
    "print('a= 43')\n",
    "b=34\n",
    "print('b= 34')\n",
    "add=a+b\n",
    "print('add =',add)\n"
   ]
  },
  {
   "cell_type": "code",
   "execution_count": 5,
   "id": "601a1a5e-72a7-4e8e-a9ec-aed4128e4bd4",
   "metadata": {},
   "outputs": [
    {
     "name": "stdout",
     "output_type": "stream",
     "text": [
      "a= 43\n",
      "b= 34\n",
      "Sub = 9\n"
     ]
    }
   ],
   "source": [
    "#Subtraction\n",
    "a=43\n",
    "print('a= 43')\n",
    "b=34\n",
    "print('b= 34')\n",
    "sub=a-b\n",
    "print('Sub =',sub)"
   ]
  },
  {
   "cell_type": "code",
   "execution_count": 6,
   "id": "14c117af-7936-4200-ba42-2c64fb8d0433",
   "metadata": {},
   "outputs": [
    {
     "name": "stdout",
     "output_type": "stream",
     "text": [
      "a= 63\n",
      "b= 97\n",
      "Mul = 6111\n"
     ]
    }
   ],
   "source": [
    "#Multiplication\n",
    "a=63\n",
    "print('a= 63')\n",
    "b=97\n",
    "print('b= 97')\n",
    "mul=a*b\n",
    "print('Mul =',mul)"
   ]
  },
  {
   "cell_type": "code",
   "execution_count": 7,
   "id": "0061adb1-3cb1-43a9-9fb6-1e7671188d69",
   "metadata": {},
   "outputs": [
    {
     "name": "stdout",
     "output_type": "stream",
     "text": [
      "a= 76\n",
      "b= 31\n",
      "Float Div = 2.4516129032258065\n"
     ]
    }
   ],
   "source": [
    "#Division\n",
    "a=76\n",
    "print('a= 76')\n",
    "b=31\n",
    "print('b= 31')\n",
    "float_Div=a/b\n",
    "print('Float Div =',float_Div)"
   ]
  },
  {
   "cell_type": "code",
   "execution_count": 8,
   "id": "018f1152-6ff6-44a3-a0e4-a1f42f4d5031",
   "metadata": {},
   "outputs": [
    {
     "name": "stdout",
     "output_type": "stream",
     "text": [
      "a= 76\n",
      "b= 31\n",
      "Floor Div = 2\n"
     ]
    }
   ],
   "source": [
    "#Floor Division\n",
    "import math\n",
    "a=76\n",
    "print('a= 76')\n",
    "b=31\n",
    "print('b= 31')\n",
    "floor_Div=math.floor(a/b)\n",
    "print('Floor Div =',floor_Div)"
   ]
  },
  {
   "cell_type": "code",
   "execution_count": 9,
   "id": "8e280a24-c7b9-46e6-9343-625cc3de26d8",
   "metadata": {},
   "outputs": [
    {
     "name": "stdout",
     "output_type": "stream",
     "text": [
      "a= 76\n",
      "b= 31\n",
      "Modulo = 14\n"
     ]
    }
   ],
   "source": [
    "#Modulo\n",
    "a=76\n",
    "print('a= 76')\n",
    "b=31\n",
    "print('b= 31')\n",
    "modulo=a%b\n",
    "print('Modulo =',modulo)"
   ]
  },
  {
   "cell_type": "code",
   "execution_count": 10,
   "id": "043c8663-8686-4546-bba5-9c3ee672e2af",
   "metadata": {},
   "outputs": [
    {
     "name": "stdout",
     "output_type": "stream",
     "text": [
      "a= 4\n",
      "b= 4\n",
      "Power = 256\n"
     ]
    }
   ],
   "source": [
    "#Power\n",
    "a=4\n",
    "print('a= 4')\n",
    "b=4\n",
    "print('b= 4')\n",
    "power=a**b\n",
    "print('Power =',power)"
   ]
  }
 ],
 "metadata": {
  "kernelspec": {
   "display_name": "Python 3 (ipykernel)",
   "language": "python",
   "name": "python3"
  },
  "language_info": {
   "codemirror_mode": {
    "name": "ipython",
    "version": 3
   },
   "file_extension": ".py",
   "mimetype": "text/x-python",
   "name": "python",
   "nbconvert_exporter": "python",
   "pygments_lexer": "ipython3",
   "version": "3.12.7"
  }
 },
 "nbformat": 4,
 "nbformat_minor": 5
}
