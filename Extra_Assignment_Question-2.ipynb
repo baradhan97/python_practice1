{
 "cells": [
  {
   "cell_type": "code",
   "execution_count": 1,
   "id": "499ec33f-f1fa-4698-a048-1b1da1b2b26e",
   "metadata": {},
   "outputs": [
    {
     "name": "stdout",
     "output_type": "stream",
     "text": [
      "0\n",
      "1\n",
      "2\n",
      "3\n",
      "4\n",
      "5\n",
      "6\n",
      "7\n",
      "8\n",
      "9\n",
      "10\n",
      "11\n",
      "12\n",
      "13\n",
      "14\n",
      "15\n",
      "16\n",
      "17\n",
      "18\n",
      "19\n"
     ]
    }
   ],
   "source": [
    "#print 0 to 20 by using range\n",
    "for num in range(0,20):\n",
    "    print(num)"
   ]
  },
  {
   "cell_type": "code",
   "execution_count": 2,
   "id": "3c39ece6-d053-462d-b8d6-4e30f3480fef",
   "metadata": {},
   "outputs": [
    {
     "name": "stdout",
     "output_type": "stream",
     "text": [
      "10 11 12 13 14 15 16 17 18 19 "
     ]
    }
   ],
   "source": [
    "# print range 10 to 20\n",
    "for num in range(10,20):\n",
    "    print(num,end=' ')"
   ]
  },
  {
   "cell_type": "code",
   "execution_count": 3,
   "id": "48824ede-a86e-47f7-a7f3-9fbc59cf9e01",
   "metadata": {},
   "outputs": [
    {
     "name": "stdout",
     "output_type": "stream",
     "text": [
      "Number of items in list1: 7\n"
     ]
    }
   ],
   "source": [
    "# print number of items in the list by using 'len'\n",
    "list1=[10,20,14,55,43,87,76]\n",
    "print('Number of items in list1:',len(list1))"
   ]
  },
  {
   "cell_type": "code",
   "execution_count": 4,
   "id": "cb26e80a-54e7-4184-9ba4-b6898612bb80",
   "metadata": {},
   "outputs": [
    {
     "name": "stdin",
     "output_type": "stream",
     "text": [
      "Enter the string: Artificial Intelligence\n"
     ]
    },
    {
     "name": "stdout",
     "output_type": "stream",
     "text": [
      "A\n",
      "r\n",
      "t\n",
      "i\n",
      "f\n",
      "i\n",
      "c\n",
      "i\n",
      "a\n",
      "l\n",
      " \n",
      "I\n",
      "n\n",
      "t\n",
      "e\n",
      "l\n",
      "l\n",
      "i\n",
      "g\n",
      "e\n",
      "n\n",
      "c\n",
      "e\n"
     ]
    }
   ],
   "source": [
    "#print character of string verticaly\n",
    "str=input('Enter the string:')\n",
    "for letter in str:\n",
    "    print(letter)"
   ]
  },
  {
   "cell_type": "code",
   "execution_count": 5,
   "id": "aa2cca4f-65ee-44b6-89ce-0f7a6a7de797",
   "metadata": {},
   "outputs": [
    {
     "name": "stdin",
     "output_type": "stream",
     "text": [
      "-Your Name- Baradhan\n",
      "-Your age- 27\n",
      "-Your Profession- AI Engineer\n"
     ]
    }
   ],
   "source": [
    "name=input('-Your Name-')\n",
    "age=input('-Your age-')\n",
    "profession=input('-Your Profession-')"
   ]
  },
  {
   "cell_type": "code",
   "execution_count": 6,
   "id": "8b2628a7-68fb-4d5d-9dd4-777368e1d9b6",
   "metadata": {},
   "outputs": [
    {
     "name": "stdout",
     "output_type": "stream",
     "text": [
      "(1, 'Welcome', 2, 'Hope')\n"
     ]
    }
   ],
   "source": [
    "#print these mixered datatype using Tuples\n",
    "tup=(1,'Welcome',2,'Hope')\n",
    "print(tup)"
   ]
  },
  {
   "cell_type": "code",
   "execution_count": 7,
   "id": "f41d7da0-c1ea-4a76-8811-2a2810aa0773",
   "metadata": {},
   "outputs": [
    {
     "name": "stdout",
     "output_type": "stream",
     "text": [
      "((0, 1, 2, 3) ('python', 'HOPE'))\n"
     ]
    }
   ],
   "source": [
    "tuple1=(0,1,2,3)\n",
    "tuple2=('python','HOPE')\n",
    "print(f'({tuple1} {tuple2})')"
   ]
  },
  {
   "cell_type": "code",
   "execution_count": 8,
   "id": "905f4085-ba45-411a-bcf2-2df77aa7531f",
   "metadata": {},
   "outputs": [
    {
     "name": "stdout",
     "output_type": "stream",
     "text": [
      "[20, 10, 16, 19, 25, 1, 276, 188]\n",
      "19 is odd\n",
      "25 is odd\n",
      "1 is odd\n"
     ]
    }
   ],
   "source": [
    "#print Odd numbers in the list\n",
    "list1=[20,10,16,19,25,1,276,188]\n",
    "print(list1)\n",
    "for num in list1:\n",
    "    if num%2==1 :\n",
    "        print(f'{num} is odd')"
   ]
  },
  {
   "cell_type": "code",
   "execution_count": 9,
   "id": "3007bb24-7f26-4dfd-ac30-236bdb2cc7d2",
   "metadata": {},
   "outputs": [
    {
     "name": "stdout",
     "output_type": "stream",
     "text": [
      "[20, 10, 16, 19, 25, 1, 276, 188]\n",
      "20 is even\n",
      "10 is even\n",
      "16 is even\n",
      "276 is even\n",
      "188 is even\n"
     ]
    }
   ],
   "source": [
    "#print Even numbers in the list\n",
    "list1=[20,10,16,19,25,1,276,188]\n",
    "print(list1)\n",
    "for num in list1:\n",
    "    if num%2==0 :\n",
    "        print(f'{num} is even')"
   ]
  },
  {
   "cell_type": "code",
   "execution_count": null,
   "id": "ba444523-bd92-4622-8b73-a83d1ea1bb75",
   "metadata": {},
   "outputs": [],
   "source": []
  }
 ],
 "metadata": {
  "kernelspec": {
   "display_name": "Python 3 (ipykernel)",
   "language": "python",
   "name": "python3"
  },
  "language_info": {
   "codemirror_mode": {
    "name": "ipython",
    "version": 3
   },
   "file_extension": ".py",
   "mimetype": "text/x-python",
   "name": "python",
   "nbconvert_exporter": "python",
   "pygments_lexer": "ipython3",
   "version": "3.12.7"
  }
 },
 "nbformat": 4,
 "nbformat_minor": 5
}
