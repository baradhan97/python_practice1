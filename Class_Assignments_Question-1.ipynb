{
 "cells": [
  {
   "cell_type": "code",
   "execution_count": 1,
   "id": "50938d11-5cae-4997-b771-2897f2029ce8",
   "metadata": {},
   "outputs": [
    {
     "name": "stdout",
     "output_type": "stream",
     "text": [
      "Sub-fields in AI are:\n",
      "Machine Learning\n",
      "Neural Networks\n",
      "Vision\n",
      "Robotics\n",
      "Speech Processing\n",
      "Natural Language Processing\n"
     ]
    }
   ],
   "source": [
    "#Create a class and  function and list out items in list\n",
    "class basic1():\n",
    "    \n",
    "    def subfields():\n",
    "        subfields=['Machine Learning','Neural Networks','Vision','Robotics','Speech Processing','Natural Language Processing']\n",
    "        print('Sub-fields in AI are:')\n",
    "        for field in subfields:\n",
    "            print(field)\n",
    "basic1.subfields()"
   ]
  },
  {
   "cell_type": "code",
   "execution_count": 16,
   "id": "d2588c1f-062a-4631-aa34-7c444493502f",
   "metadata": {},
   "outputs": [
    {
     "name": "stdin",
     "output_type": "stream",
     "text": [
      "Enter a number: 7\n"
     ]
    },
    {
     "name": "stdout",
     "output_type": "stream",
     "text": [
      "7 is Odd\n"
     ]
    },
    {
     "data": {
      "text/plain": [
       "'Odd'"
      ]
     },
     "execution_count": 16,
     "metadata": {},
     "output_type": "execute_result"
    }
   ],
   "source": [
    "#Create the class with function that checks given number is odd or Even\n",
    "class Odd_Even():\n",
    "    def odd_even():\n",
    "        num=int(input('Enter a number:'))\n",
    "        if num%2==0:\n",
    "            print(f'{num} is Even')\n",
    "            number= 'Even'\n",
    "        else:\n",
    "            print(f'{num} is Odd')\n",
    "            number='Odd'\n",
    "        return number\n",
    "Odd_Even.odd_even()"
   ]
  },
  {
   "cell_type": "code",
   "execution_count": 10,
   "id": "7bc1906a-5539-46c4-b079-0bce8e7d7c9f",
   "metadata": {},
   "outputs": [
    {
     "name": "stdin",
     "output_type": "stream",
     "text": [
      "Enter Your Gender:   Female\n",
      "Enter Your Age: 16\n"
     ]
    },
    {
     "name": "stdout",
     "output_type": "stream",
     "text": [
      "Not Eligible\n"
     ]
    },
    {
     "data": {
      "text/plain": [
       "'Not Eligible'"
      ]
     },
     "execution_count": 10,
     "metadata": {},
     "output_type": "execute_result"
    }
   ],
   "source": [
    "#Create a function that tells the Eligibiity of marriage for male and female according to their age limit \n",
    "#like 21 for male and 18 for female\n",
    "class Eligibility_for_Marriage():\n",
    "    \n",
    "    def eligible():\n",
    "        gender=input('Enter Your Gender:').strip().casefold() \n",
    "        age=int(input('Enter Your Age:'))\n",
    "        match gender:\n",
    "            case 'male':\n",
    "                if age>=21:\n",
    "                    print('Eligible')\n",
    "                    eligibility='Eligible'\n",
    "                else:\n",
    "                    print('Not Eligible')\n",
    "                    eligibility='Not Eligible'\n",
    "            case 'female':\n",
    "                if age>=18:\n",
    "                    print('Eligible')\n",
    "                    eligibility='Eligible'\n",
    "                else:\n",
    "                    print('Not Eligible')\n",
    "                    eligibility='Not Eligible'\n",
    "        return eligibility\n",
    "Eligibility_for_Marriage.eligible()"
   ]
  },
  {
   "cell_type": "code",
   "execution_count": 12,
   "id": "7a1620dd-e914-4f14-b454-f4fb98c96f79",
   "metadata": {},
   "outputs": [
    {
     "name": "stdin",
     "output_type": "stream",
     "text": [
      "Subject1= 99\n",
      "Subject2= 98\n",
      "Subject3= 97\n",
      "Subject4= 96\n",
      "Subject5= 95\n"
     ]
    },
    {
     "name": "stdout",
     "output_type": "stream",
     "text": [
      "Total:485\n",
      "Percentage:97.0\n"
     ]
    }
   ],
   "source": [
    "#Calculate the percentage of your 10th mark\n",
    "class Findpercenatage():\n",
    "    def percentage():\n",
    "        sub1=int(input('Subject1='))\n",
    "        sub2=int(input('Subject2='))\n",
    "        sub3=int(input('Subject3='))\n",
    "        sub4=int(input('Subject4='))\n",
    "        sub5=int(input('Subject5='))\n",
    "        total=sub1+sub2+sub3+sub4+sub5\n",
    "        totalmarks=500\n",
    "        print(f'Total:{total}')\n",
    "        percentage=(total/totalmarks)*100\n",
    "        print(f'Percentage:{percentage}')\n",
    "        return percentage \n",
    "    \n",
    "percent=Findpercenatage.percentage()"
   ]
  },
  {
   "cell_type": "code",
   "execution_count": 15,
   "id": "450c491e-6aac-4e42-ad97-f6bb29e74f00",
   "metadata": {},
   "outputs": [
    {
     "name": "stdin",
     "output_type": "stream",
     "text": [
      "Side1: 10\n",
      "Side2: 7\n",
      "Side3: 8\n"
     ]
    },
    {
     "name": "stdout",
     "output_type": "stream",
     "text": [
      "Perimeter of Equilateral Triangle is : 25\n",
      "Area of Triangle: 27.810744326608734\n"
     ]
    }
   ],
   "source": [
    "#print area and perimeter of  triangle using class and functions\n",
    "import math\n",
    "class Triangle():\n",
    "\n",
    "    def triangle():\n",
    "        side1=int(input('Side1:'))\n",
    "        side2=int(input('Side2:'))\n",
    "        side3=int(input('Side3:'))\n",
    "        #adding all sides is perimeter\n",
    "        perimeter =side1+side2+side3\n",
    "        semiperimeter=perimeter/2\n",
    "        print('Perimeter of Equilateral Triangle is :',perimeter)\n",
    "        #using Heron's formula to find area of Triangle\n",
    "        area = math.sqrt(semiperimeter * (semiperimeter - side1) * (semiperimeter - side2) * (semiperimeter -side3))\n",
    "        print('Area of Triangle:',area)\n",
    "Triangle.triangle()"
   ]
  }
 ],
 "metadata": {
  "kernelspec": {
   "display_name": "Python 3 (ipykernel)",
   "language": "python",
   "name": "python3"
  },
  "language_info": {
   "codemirror_mode": {
    "name": "ipython",
    "version": 3
   },
   "file_extension": ".py",
   "mimetype": "text/x-python",
   "name": "python",
   "nbconvert_exporter": "python",
   "pygments_lexer": "ipython3",
   "version": "3.12.7"
  }
 },
 "nbformat": 4,
 "nbformat_minor": 5
}
