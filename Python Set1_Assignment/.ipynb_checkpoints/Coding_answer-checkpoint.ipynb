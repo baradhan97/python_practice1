{
 "cells": [
  {
   "cell_type": "code",
   "execution_count": 2,
   "id": "5fd5c475",
   "metadata": {},
   "outputs": [
    {
     "name": "stdout",
     "output_type": "stream",
     "text": [
      "1 2 3 4 5 "
     ]
    }
   ],
   "source": [
    "\n",
    "'''1.Write a Python program that prints numbers from 1 to 5.\n",
    "Expected Output:\n",
    "1 2 3 4 5    '''\n",
    "for num in range(1,6):\n",
    "    print(num,end=' ')\n"
   ]
  },
  {
   "cell_type": "code",
   "execution_count": 6,
   "id": "3c8bc472",
   "metadata": {},
   "outputs": [
    {
     "name": "stdout",
     "output_type": "stream",
     "text": [
      "1st five Even numbers are: 2 4 6 8 10\n"
     ]
    }
   ],
   "source": [
    "'''2.Write a Python program to print the first 5 even numbers. Expected Output:\n",
    "2 4 6 8 10'''\n",
    "even=[num for num in range(1,100) if num%2==0][0:5]\n",
    "print ('1st five Even numbers are:',*even)\n",
    "\n"
   ]
  },
  {
   "cell_type": "code",
   "execution_count": 9,
   "id": "5e7af211",
   "metadata": {},
   "outputs": [
    {
     "name": "stdout",
     "output_type": "stream",
     "text": [
      "Sum of numbers from 1 to 10 is: 55\n"
     ]
    }
   ],
   "source": [
    "'''3.Write a Python program to print the sum of numbers from 1 to 10. \n",
    "Expected Output:55'''\n",
    "sum=0\n",
    "for num in range(1,11):\n",
    "    sum+=num\n",
    "print('Sum of numbers from 1 to 10 is:',sum)\n",
    "    \n"
   ]
  },
  {
   "cell_type": "code",
   "execution_count": 11,
   "id": "ac09aa1a",
   "metadata": {},
   "outputs": [
    {
     "name": "stdout",
     "output_type": "stream",
     "text": [
      "120\n"
     ]
    }
   ],
   "source": [
    "'''4.Write a Python function to find the factorial of 5. Expected Output:\n",
    "120'''\n",
    "def numfactorial(num1):\n",
    "    factorial=1\n",
    "    for num in range(1,num1+1):\n",
    "        factorial*=num\n",
    "    return factorial\n",
    "result=numfactorial(5)\n",
    "print(result)\n",
    "\n"
   ]
  },
  {
   "cell_type": "code",
   "execution_count": 14,
   "id": "8ab9fc8a",
   "metadata": {},
   "outputs": [
    {
     "name": "stdout",
     "output_type": "stream",
     "text": [
      "7is a Prime number\n"
     ]
    }
   ],
   "source": [
    "'''5.Write a Python program to check if a number is prime. Expected Output (for input 7):\n",
    "7 is a prime number'''\n",
    "number=7\n",
    "factor=0\n",
    "for num in range(1,num+1):\n",
    "    if  number%num==0:\n",
    "        factor+=1\n",
    "if factor==2:\n",
    "    print(f'{number}is a Prime number')\n",
    "else:\n",
    "    print(f'{number}is not a Prime number')\n",
    "\n"
   ]
  }
 ],
 "metadata": {
  "kernelspec": {
   "display_name": "Python 3 (ipykernel)",
   "language": "python",
   "name": "python3"
  },
  "language_info": {
   "codemirror_mode": {
    "name": "ipython",
    "version": 3
   },
   "file_extension": ".py",
   "mimetype": "text/x-python",
   "name": "python",
   "nbconvert_exporter": "python",
   "pygments_lexer": "ipython3",
   "version": "3.12.7"
  }
 },
 "nbformat": 4,
 "nbformat_minor": 5
}
