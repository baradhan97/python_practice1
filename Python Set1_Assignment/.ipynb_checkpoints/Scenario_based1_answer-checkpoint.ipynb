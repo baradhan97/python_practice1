{
 "cells": [
  {
   "cell_type": "code",
   "execution_count": 1,
   "id": "4f440180-bdb9-46fc-aec4-2ec3bb14b841",
   "metadata": {},
   "outputs": [
    {
     "name": "stdin",
     "output_type": "stream",
     "text": [
      "Enter age: 19\n"
     ]
    },
    {
     "name": "stdout",
     "output_type": "stream",
     "text": [
      "Eligible to Vote\n"
     ]
    }
   ],
   "source": [
    "#Scenario1:A system checks if a user is eligible to vote based on their age.\n",
    "age=int(input('Enter age:'))\n",
    "if(age>=18):\n",
    "    print('Eligible to Vote')\n",
    "else:\n",
    "    print('Not Eligible to Vote')"
   ]
  },
  {
   "cell_type": "code",
   "execution_count": 2,
   "id": "afd3fa29-6dc9-4534-9cdd-b1248df83ce2",
   "metadata": {},
   "outputs": [
    {
     "name": "stdout",
     "output_type": "stream",
     "text": [
      "Maximum number in list is  5\n"
     ]
    }
   ],
   "source": [
    "#2.\tScenario: A program processes a list of numbers and needs to find the largest value\n",
    "list1=[1,2,3,4,5]\n",
    "max=list1[0]\n",
    "for num in list1:\n",
    "    if(num>max):\n",
    "        max=num\n",
    "print('Maximum number in list is ',max) "
   ]
  },
  {
   "cell_type": "code",
   "execution_count": 4,
   "id": "344723df-8f4e-4bdf-a661-843ac82d99ef",
   "metadata": {},
   "outputs": [
    {
     "name": "stdin",
     "output_type": "stream",
     "text": [
      "Enter Your Salary: 60000\n"
     ]
    },
    {
     "name": "stdout",
     "output_type": "stream",
     "text": [
      "you get bonus $6,000.0\n"
     ]
    }
   ],
   "source": [
    "#3.\tScenario: A company provides employees with a 10% bonus if their salary exceeds $50,000\n",
    "salary=int(input('Enter Your Salary:'))\n",
    "bonus=0.1*salary\n",
    "if salary>50000:\n",
    "    print(f'you get bonus ${bonus:,}')\n",
    "else:\n",
    "    print('No Bonus')\n",
    "    "
   ]
  },
  {
   "cell_type": "code",
   "execution_count": 5,
   "id": "7c162251-5739-4911-aa9c-d71396e9937d",
   "metadata": {},
   "outputs": [
    {
     "name": "stdin",
     "output_type": "stream",
     "text": [
      "Enter the number: 6\n"
     ]
    },
    {
     "name": "stdout",
     "output_type": "stream",
     "text": [
      "Even number\n"
     ]
    }
   ],
   "source": [
    "#4.\tScenario: A program evaluates a number to determine if it is even or odd\n",
    "num=int(input('Enter the number:'))\n",
    "if num%2==0:\n",
    "    print('Even number')\n",
    "else:\n",
    "    print('Odd number')"
   ]
  },
  {
   "cell_type": "code",
   "execution_count": 7,
   "id": "a9de9d82-77f0-4730-975b-26341518b9f4",
   "metadata": {},
   "outputs": [
    {
     "name": "stdin",
     "output_type": "stream",
     "text": [
      "Enter the word or Sentence: hi ramu\n"
     ]
    },
    {
     "name": "stdout",
     "output_type": "stream",
     "text": [
      "Reversed output is: umar ih\n"
     ]
    }
   ],
   "source": [
    "#A text-processing tool reverses a given word or sentence for formatting purposes\n",
    "word=input('Enter the word or Sentence:')\n",
    "print('Reversed output is:',word[::-1])"
   ]
  },
  {
   "cell_type": "code",
   "execution_count": 22,
   "id": "3c769387-1cf8-4ecc-a8af-c1c447445db5",
   "metadata": {},
   "outputs": [
    {
     "name": "stdin",
     "output_type": "stream",
     "text": [
      "Enter Your Mark: 50\n"
     ]
    },
    {
     "name": "stdout",
     "output_type": "stream",
     "text": [
      "You are Passed\n"
     ]
    }
   ],
   "source": [
    "#A grading system determines whether a student has passed or failed based on their score.\n",
    "# Write logic to check if a student has passed a subject by scoring at least 40 marks.\n",
    "mark=int(input('Enter Your Mark:'))\n",
    "if mark >=40:\n",
    "    print('You are Passed')\n",
    "else:\n",
    "    print('You Failed')"
   ]
  },
  {
   "cell_type": "code",
   "execution_count": 10,
   "id": "9e890cf9-2074-433f-b027-02006cf36bc3",
   "metadata": {},
   "outputs": [
    {
     "name": "stdin",
     "output_type": "stream",
     "text": [
      "Enter you product price with comma inbetween each: 40,50,20\n"
     ]
    },
    {
     "name": "stdout",
     "output_type": "stream",
     "text": [
      "You got 20% discount and pay $22.0\n"
     ]
    }
   ],
   "source": [
    "# A retail store offers a 20% discount if a customer’s total order exceeds $100. \n",
    "eachprice=input('Enter you product price with comma inbetween each:')\n",
    "price_strlist=eachprice.split(',')\n",
    "price_intlist=map(int,price_strlist)\n",
    "total=0\n",
    "for price in price_intlist:\n",
    "    total+=price\n",
    "if total>100:\n",
    "    final=0.2*total\n",
    "   \n",
    "    print(f'You got 20% discount and pay ${final:,}')\n",
    "else:\n",
    "    print(f'pay ${total:,}')"
   ]
  },
  {
   "cell_type": "code",
   "execution_count": 13,
   "id": "8e82ab1d-ba78-400f-b5d6-9d8d6afc9aed",
   "metadata": {},
   "outputs": [
    {
     "name": "stdin",
     "output_type": "stream",
     "text": [
      "Enter the amount to withdraw: 4000\n"
     ]
    },
    {
     "name": "stdout",
     "output_type": "stream",
     "text": [
      "Your transaction is being processed\n",
      "Remaining balance is Rs.96,000\n"
     ]
    }
   ],
   "source": [
    "#Scenario: A banking system processes withdrawal requests and ensures the user has enough balance.\n",
    "#Write logic to check if a user has enough balance before allowing a withdrawal and update the remaining balance accordingly.\n",
    "withdraw=int(input('Enter the amount to withdraw:'))\n",
    "bank_balance=100000\n",
    "rem_balance=bank_balance-withdraw\n",
    "if withdraw <bank_balance:\n",
    "    print('Your transaction is being processed')\n",
    "    print(f'Remaining balance is Rs.{rem_balance:,}')\n",
    "else:\n",
    "    print('You have Insufficient Balance')\n"
   ]
  },
  {
   "cell_type": "code",
   "execution_count": 14,
   "id": "cc46d67e-da46-4f88-bf3e-5e4696a6db30",
   "metadata": {},
   "outputs": [
    {
     "name": "stdin",
     "output_type": "stream",
     "text": [
      "Enter the year: 2000\n"
     ]
    },
    {
     "name": "stdout",
     "output_type": "stream",
     "text": [
      "2000 is leap year\n"
     ]
    }
   ],
   "source": [
    "#A calendar system verifies whether a given year is a leap year based on standard leap year rules.\n",
    " #Write logic to determine whether a given year is a leap year.\n",
    "year=int(input('Enter the year:'))\n",
    "if year%4==0:\n",
    "    if year%100==0:\n",
    "        if year%400==0:\n",
    "            print(f'{year} is leap year')\n",
    "        else:\n",
    "            print(f'{year} is not a leap year')\n",
    "    else:\n",
    "            print(f'{year} is not a leap year')\n",
    "else:\n",
    "            print(f'{year} is not a leap year')\n",
    "            \n"
   ]
  },
  {
   "cell_type": "code",
   "execution_count": 21,
   "id": "9097b66a-b3f8-4cec-9555-124d306b0a15",
   "metadata": {},
   "outputs": [
    {
     "name": "stdin",
     "output_type": "stream",
     "text": [
      "Enter numbers: 2,3,4,5,6,7,8,9\n"
     ]
    },
    {
     "name": "stdout",
     "output_type": "stream",
     "text": [
      "Even numbers are:\n",
      "2\n",
      "4\n",
      "6\n",
      "8\n"
     ]
    }
   ],
   "source": [
    "#: A program filters out only even numbers from a given list.\n",
    "# Write logic to extract and return only the even numbers from a list\n",
    "def even_numbers():\n",
    "    numbers=input('Enter numbers:')\n",
    "    strnumlist=numbers.split(',')\n",
    "    intnumlist=map(int,strnumlist)\n",
    "    evennumlist=[numeven for numeven in intnumlist if numeven%2==0]  \n",
    "    \n",
    "    print ('Even numbers are:')\n",
    "    for num in evennumlist:\n",
    "        print(num)\n",
    "even_numbers()\n"
   ]
  },
  {
   "cell_type": "code",
   "execution_count": null,
   "id": "9eb2b145-5994-4f48-9f3a-1df7f08c7fbc",
   "metadata": {},
   "outputs": [],
   "source": []
  }
 ],
 "metadata": {
  "kernelspec": {
   "display_name": "Python 3 (ipykernel)",
   "language": "python",
   "name": "python3"
  },
  "language_info": {
   "codemirror_mode": {
    "name": "ipython",
    "version": 3
   },
   "file_extension": ".py",
   "mimetype": "text/x-python",
   "name": "python",
   "nbconvert_exporter": "python",
   "pygments_lexer": "ipython3",
   "version": "3.12.7"
  }
 },
 "nbformat": 4,
 "nbformat_minor": 5
}
